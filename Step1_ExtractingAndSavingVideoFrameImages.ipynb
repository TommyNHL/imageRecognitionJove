{
 "cells": [
  {
   "cell_type": "markdown",
   "id": "086a3bc6",
   "metadata": {},
   "source": [
    "# 3. Image recognition."
   ]
  },
  {
   "cell_type": "markdown",
   "id": "d15b5966",
   "metadata": {},
   "source": [
    "## 3.1. Export a series of video frame images from the collected video clips to generate a data set for model training by using this Jupyter Notebook."
   ]
  },
  {
   "cell_type": "code",
   "execution_count": null,
   "id": "23d0bf47",
   "metadata": {},
   "outputs": [],
   "source": [
    "import os\n",
    "import cv2"
   ]
  },
  {
   "cell_type": "markdown",
   "id": "b95edfab",
   "metadata": {},
   "source": [
    "### Scenario A: background (videos 4 - 6)"
   ]
  },
  {
   "cell_type": "code",
   "execution_count": null,
   "id": "f7fb4797",
   "metadata": {},
   "outputs": [],
   "source": [
    "# creating a folder \"background\"\n",
    "imagesavepath = \"background/\"\n",
    "if not os.path.exists(imagesavepath):\n",
    "    os.makedirs(imagesavepath)"
   ]
  },
  {
   "cell_type": "code",
   "execution_count": null,
   "id": "9f404791",
   "metadata": {},
   "outputs": [],
   "source": [
    "# creating a folder \"v4\" in the folder \"background\" \n",
    "imagesavepath = \"background/v4/\"\n",
    "if not os.path.exists(imagesavepath):\n",
    "    os.makedirs(imagesavepath)\n",
    "    \n",
    "# converting video 4 into images\n",
    "vidcap = cv2.VideoCapture('Video 4_ Group A_Background_1.mp4')\n",
    "success,image = vidcap.read()\n",
    "count = 0\n",
    "while success:\n",
    "    cv2.imwrite(\"background/v4/v4_frame%d.jpg\" % count, image)  # save frame as JPEG file      \n",
    "    success,image = vidcap.read()\n",
    "    print('Read a new frame: ', success)\n",
    "    count += 1"
   ]
  },
  {
   "cell_type": "code",
   "execution_count": null,
   "id": "db5f3025",
   "metadata": {},
   "outputs": [],
   "source": [
    "# creating a folder \"v5\" in the folder \"background\" \n",
    "imagesavepath = \"background/v5/\"\n",
    "if not os.path.exists(imagesavepath):\n",
    "    os.makedirs(imagesavepath)\n",
    "\n",
    "# converting video 5 into images\n",
    "vidcap = cv2.VideoCapture('Video 5_ Group A_Background_2.mp4')\n",
    "success,image = vidcap.read()\n",
    "count = 0\n",
    "while success:\n",
    "    cv2.imwrite(\"background/v5/v5_frame%d.jpg\" % count, image)  # save frame as JPEG file      \n",
    "    success,image = vidcap.read()\n",
    "    print('Read a new frame: ', success)\n",
    "    count += 1"
   ]
  },
  {
   "cell_type": "code",
   "execution_count": null,
   "id": "1db0481e",
   "metadata": {},
   "outputs": [],
   "source": [
    "# creating a folder \"v6\" in the folder \"background\" \n",
    "imagesavepath = \"background/v6/\"\n",
    "if not os.path.exists(imagesavepath):\n",
    "    os.makedirs(imagesavepath)\n",
    "    \n",
    "# converting video 6 into images\n",
    "vidcap = cv2.VideoCapture('Video 6_ Group A_Background_3.mp4')\n",
    "success,image = vidcap.read()\n",
    "count = 0\n",
    "while success:\n",
    "    cv2.imwrite(\"background/v6/v6_frame%d.jpg\" % count, image)  # save frame as JPEG file      \n",
    "    success,image = vidcap.read()\n",
    "    print('Read a new frame: ', success)\n",
    "    count += 1"
   ]
  },
  {
   "cell_type": "markdown",
   "id": "36cbee04",
   "metadata": {},
   "source": [
    "### Scenario B: wasabi (videos 7 - 9)"
   ]
  },
  {
   "cell_type": "code",
   "execution_count": null,
   "id": "c1750faa",
   "metadata": {},
   "outputs": [],
   "source": [
    "# creating a folder \"wasabi\"\n",
    "imagesavepath = \"wasabi/\"\n",
    "if not os.path.exists(imagesavepath):\n",
    "    os.makedirs(imagesavepath)"
   ]
  },
  {
   "cell_type": "code",
   "execution_count": null,
   "id": "0925debc",
   "metadata": {},
   "outputs": [],
   "source": [
    "# creating a folder \"v7\" in the folder \"wasabi\" \n",
    "imagesavepath = \"wasabi/v7/\"\n",
    "if not os.path.exists(imagesavepath):\n",
    "    os.makedirs(imagesavepath)\n",
    "\n",
    "# converting video 7 into images\n",
    "vidcap = cv2.VideoCapture('Video 7_ Group B_Positive Control_1.mp4')\n",
    "success,image = vidcap.read()\n",
    "count = 0\n",
    "while success:\n",
    "    cv2.imwrite(\"wasabi/v7/v7_frame%d.jpg\" % count, image)  # save frame as JPEG file      \n",
    "    success,image = vidcap.read()\n",
    "    print('Read a new frame: ', success)\n",
    "    count += 1"
   ]
  },
  {
   "cell_type": "code",
   "execution_count": null,
   "id": "8d5e78c6",
   "metadata": {},
   "outputs": [],
   "source": [
    "# creating a folder \"v8\" in the folder \"wasabi\" \n",
    "imagesavepath = \"wasabi/v8/\"\n",
    "if not os.path.exists(imagesavepath):\n",
    "    os.makedirs(imagesavepath)\n",
    "\n",
    "# converting video 8 into images\n",
    "vidcap = cv2.VideoCapture('Video 8_ Group B_Positive Control_2.mp4')\n",
    "success,image = vidcap.read()\n",
    "count = 0\n",
    "while success:\n",
    "    cv2.imwrite(\"wasabi/v8/v8_frame%d.jpg\" % count, image)  # save frame as JPEG file      \n",
    "    success,image = vidcap.read()\n",
    "    print('Read a new frame: ', success)\n",
    "    count += 1"
   ]
  },
  {
   "cell_type": "code",
   "execution_count": null,
   "id": "db163535",
   "metadata": {},
   "outputs": [],
   "source": [
    "# creating a folder \"v9\" in the folder \"wasabi\" \n",
    "imagesavepath = \"wasabi/v9/\"\n",
    "if not os.path.exists(imagesavepath):\n",
    "    os.makedirs(imagesavepath)\n",
    "\n",
    "# converting video 9 into images\n",
    "vidcap = cv2.VideoCapture('Video 9_ Group B_Positive Control_3.mp4')\n",
    "success,image = vidcap.read()\n",
    "count = 0\n",
    "while success:\n",
    "    cv2.imwrite(\"wasabi/v9/v9_frame%d.jpg\" % count, image)  # save frame as JPEG file      \n",
    "    success,image = vidcap.read()\n",
    "    print('Read a new frame: ', success)\n",
    "    count += 1"
   ]
  },
  {
   "cell_type": "markdown",
   "id": "194a08c5",
   "metadata": {},
   "source": [
    "### Scenario C: wasabiAlcohol (videos 10 - 12)"
   ]
  },
  {
   "cell_type": "code",
   "execution_count": null,
   "id": "f8e5dc3b",
   "metadata": {},
   "outputs": [],
   "source": [
    "# creating a folder \"wasabiAlcohol\"\n",
    "imagesavepath = \"wasabiAlcohol/\"\n",
    "if not os.path.exists(imagesavepath):\n",
    "    os.makedirs(imagesavepath)"
   ]
  },
  {
   "cell_type": "code",
   "execution_count": null,
   "id": "6dad1185",
   "metadata": {},
   "outputs": [],
   "source": [
    "# creating a folder \"v10\" in the folder \"wasabiAlcohol\" \n",
    "imagesavepath = \"wasabiAlcohol/v10/\"\n",
    "if not os.path.exists(imagesavepath):\n",
    "    os.makedirs(imagesavepath)\n",
    "\n",
    "# converting video 10 into images\n",
    "vidcap = cv2.VideoCapture('Video 10_ Group C_Experimental_1.mp4')\n",
    "success,image = vidcap.read()\n",
    "count = 0\n",
    "while success:\n",
    "    cv2.imwrite(\"wasabiAlcohol/v10/v10_frame%d.jpg\" % count, image)  # save frame as JPEG file      \n",
    "    success,image = vidcap.read()\n",
    "    print('Read a new frame: ', success)\n",
    "    count += 1"
   ]
  },
  {
   "cell_type": "code",
   "execution_count": null,
   "id": "41514b8b",
   "metadata": {},
   "outputs": [],
   "source": [
    "# creating a folder \"v11\" in the folder \"wasabiAlcohol\" \n",
    "imagesavepath = \"wasabiAlcohol/v11/\"\n",
    "if not os.path.exists(imagesavepath):\n",
    "    os.makedirs(imagesavepath)\n",
    "\n",
    "# converting video 11 into images\n",
    "vidcap = cv2.VideoCapture('Video 11_ Group C_Experimental_2.mp4')\n",
    "success,image = vidcap.read()\n",
    "count = 0\n",
    "while success:\n",
    "    cv2.imwrite(\"wasabiAlcohol/v11/v11_frame%d.jpg\" % count, image)  # save frame as JPEG file      \n",
    "    success,image = vidcap.read()\n",
    "    print('Read a new frame: ', success)\n",
    "    count += 1"
   ]
  },
  {
   "cell_type": "code",
   "execution_count": null,
   "id": "d206cb60",
   "metadata": {},
   "outputs": [],
   "source": [
    "# creating a folder \"v12\" in the folder \"wasabiAlcohol\" \n",
    "imagesavepath = \"wasabiAlcohol/v12/\"\n",
    "if not os.path.exists(imagesavepath):\n",
    "    os.makedirs(imagesavepath)\n",
    "\n",
    "# converting video 12 into images\n",
    "vidcap = cv2.VideoCapture('Video 12_ Group C_Experimental_3.mp4')\n",
    "success,image = vidcap.read()\n",
    "count = 0\n",
    "while success:\n",
    "    cv2.imwrite(\"wasabiAlcohol/v12/v12_frame%d.jpg\" % count, image)  # save frame as JPEG file      \n",
    "    success,image = vidcap.read()\n",
    "    print('Read a new frame: ', success)\n",
    "    count += 1"
   ]
  },
  {
   "cell_type": "markdown",
   "id": "06ed90ad",
   "metadata": {},
   "source": [
    "### Scenario D: alcohol (videos 13 - 15)"
   ]
  },
  {
   "cell_type": "code",
   "execution_count": null,
   "id": "acb03eeb",
   "metadata": {},
   "outputs": [],
   "source": [
    "# creating a folder \"alcohol\"\n",
    "imagesavepath = \"alcohol/\"\n",
    "if not os.path.exists(imagesavepath):\n",
    "    os.makedirs(imagesavepath)"
   ]
  },
  {
   "cell_type": "code",
   "execution_count": null,
   "id": "8a98cf71",
   "metadata": {},
   "outputs": [],
   "source": [
    "# creating a folder \"v13\" in the folder \"alcohol\" \n",
    "imagesavepath = \"alcohol/v13/\"\n",
    "if not os.path.exists(imagesavepath):\n",
    "    os.makedirs(imagesavepath)\n",
    "\n",
    "# converting video 13 into images\n",
    "vidcap = cv2.VideoCapture('Video 13_ Group D_Negative Control_1.mp4')\n",
    "success,image = vidcap.read()\n",
    "count = 0\n",
    "while success:\n",
    "    cv2.imwrite(\"alcohol/v13/v13_frame%d.jpg\" % count, image)  # save frame as JPEG file      \n",
    "    success,image = vidcap.read()\n",
    "    print('Read a new frame: ', success)\n",
    "    count += 1"
   ]
  },
  {
   "cell_type": "code",
   "execution_count": null,
   "id": "a2394bc2",
   "metadata": {},
   "outputs": [],
   "source": [
    "# creating a folder \"v14\" in the folder \"alcohol\" \n",
    "imagesavepath = \"alcohol/v14/\"\n",
    "if not os.path.exists(imagesavepath):\n",
    "    os.makedirs(imagesavepath)\n",
    "\n",
    "# converting video 14 into images\n",
    "vidcap = cv2.VideoCapture('Video 14_ Group D_Negative Control_2.mp4')\n",
    "success,image = vidcap.read()\n",
    "count = 0\n",
    "while success:\n",
    "    cv2.imwrite(\"alcohol/v14/v14_frame%d.jpg\" % count, image)  # save frame as JPEG file      \n",
    "    success,image = vidcap.read()\n",
    "    print('Read a new frame: ', success)\n",
    "    count += 1"
   ]
  },
  {
   "cell_type": "code",
   "execution_count": null,
   "id": "352793e1",
   "metadata": {},
   "outputs": [],
   "source": [
    "# creating a folder \"v15\" in the folder \"alcohol\" \n",
    "imagesavepath = \"alcohol/v15/\"\n",
    "if not os.path.exists(imagesavepath):\n",
    "    os.makedirs(imagesavepath)\n",
    "\n",
    "# converting video 15 into images\n",
    "vidcap = cv2.VideoCapture('Video 15_ Group D_Negative Control_3.mp4')\n",
    "success,image = vidcap.read()\n",
    "count = 0\n",
    "while success:\n",
    "    cv2.imwrite(\"alcohol/v15/v15_frame%d.jpg\" % count, image)  # save frame as JPEG file      \n",
    "    success,image = vidcap.read()\n",
    "    print('Read a new frame: ', success)\n",
    "    count += 1"
   ]
  },
  {
   "cell_type": "code",
   "execution_count": null,
   "id": "57b6d6fc",
   "metadata": {},
   "outputs": [],
   "source": []
  },
  {
   "cell_type": "markdown",
   "id": "e5470191",
   "metadata": {},
   "source": [
    "## 3.2. Only select the images with at least one mouse consuming the provided paste are selected."
   ]
  },
  {
   "cell_type": "markdown",
   "id": "8098d9a9",
   "metadata": {},
   "source": [
    "### After creating folders by running the codes below, move all the selected images into the corresponding folders"
   ]
  },
  {
   "cell_type": "code",
   "execution_count": null,
   "id": "f4a4df60",
   "metadata": {},
   "outputs": [],
   "source": [
    "imagesavepath = \"modeling/train/0_background\"\n",
    "if not os.path.exists(imagesavepath):\n",
    "    os.makedirs(imagesavepath)\n",
    "imagesavepath = \"modeling/train/1_wasabi\"\n",
    "if not os.path.exists(imagesavepath):\n",
    "    os.makedirs(imagesavepath)\n",
    "imagesavepath = \"modeling/train/2_alcohol\"\n",
    "if not os.path.exists(imagesavepath):\n",
    "    os.makedirs(imagesavepath)\n"
   ]
  },
  {
   "cell_type": "code",
   "execution_count": null,
   "id": "176a90bb",
   "metadata": {},
   "outputs": [],
   "source": []
  }
 ],
 "metadata": {
  "kernelspec": {
   "display_name": "Python 3 (ipykernel)",
   "language": "python",
   "name": "python3"
  },
  "language_info": {
   "codemirror_mode": {
    "name": "ipython",
    "version": 3
   },
   "file_extension": ".py",
   "mimetype": "text/x-python",
   "name": "python",
   "nbconvert_exporter": "python",
   "pygments_lexer": "ipython3",
   "version": "3.9.7"
  }
 },
 "nbformat": 4,
 "nbformat_minor": 5
}

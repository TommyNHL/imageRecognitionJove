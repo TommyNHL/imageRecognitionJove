{
 "cells": [
  {
   "cell_type": "markdown",
   "id": "1f8e2ca9",
   "metadata": {},
   "source": [
    "## 3.3.\tPerform data augmentation through horizontally flipping the generated images by implementing the script provided in this Jupyter Notebook."
   ]
  },
  {
   "cell_type": "code",
   "execution_count": null,
   "id": "819b727e",
   "metadata": {},
   "outputs": [],
   "source": [
    "import cv2\n",
    "import glob\n",
    "import os\n",
    "import shutil"
   ]
  },
  {
   "cell_type": "code",
   "execution_count": null,
   "id": "75c85e6c",
   "metadata": {},
   "outputs": [],
   "source": [
    "# generating the flipped images and saving them in the same folders for the original images\n",
    "for folders in glob.glob(\"modeling\\\\train\\\\*_*\"):\n",
    "    print(folders, \"reading images...\")\n",
    "\n",
    "    for filename in os.listdir(folders):\n",
    "        try:\n",
    "            img=cv2.imread(os.path.join(folders, filename))\n",
    "            if img is not None:\n",
    "                img_f = cv2.flip(img, 1)\n",
    "                filename_f = str(filename.split(\".\")[0]) + \"_flipped.jpg\"\n",
    "                cv2.imwrite(os.path.join(folders, filename_f), img_f)\n",
    "        except:\n",
    "            print(os.path.join(folders, filename), \"cannot read image\")\n",
    "            pass"
   ]
  },
  {
   "cell_type": "markdown",
   "id": "7ff11fb3",
   "metadata": {},
   "source": [
    "## 3.4.\tReserve the image data from each second replicate for external independent CNN model validation. Use the images from each first and third replicates for internal model training and testing."
   ]
  },
  {
   "cell_type": "code",
   "execution_count": null,
   "id": "54c0af0a",
   "metadata": {},
   "outputs": [],
   "source": [
    "# creating a set of folders for image files transfer \n",
    "imagesavepath = \"modeling/val/original/0_background\"\n",
    "if not os.path.exists(imagesavepath):\n",
    "    os.makedirs(imagesavepath)\n",
    "imagesavepath = \"modeling/val/original/1_wasabi\"\n",
    "if not os.path.exists(imagesavepath):\n",
    "    os.makedirs(imagesavepath)\n",
    "imagesavepath = \"modeling/val/original/2_alcohol\"\n",
    "if not os.path.exists(imagesavepath):\n",
    "    os.makedirs(imagesavepath)\n",
    "imagesavepath = \"modeling/val/flipped/0_background\"\n",
    "if not os.path.exists(imagesavepath):\n",
    "    os.makedirs(imagesavepath)\n",
    "imagesavepath = \"modeling/val/flipped/1_wasabi\"\n",
    "if not os.path.exists(imagesavepath):\n",
    "    os.makedirs(imagesavepath)\n",
    "imagesavepath = \"modeling/val/flipped/2_alcohol\"\n",
    "if not os.path.exists(imagesavepath):\n",
    "    os.makedirs(imagesavepath)"
   ]
  },
  {
   "cell_type": "code",
   "execution_count": null,
   "id": "2b882e7f",
   "metadata": {},
   "outputs": [],
   "source": [
    "# Moving all v5, v8, v14 flipped images to the folder \"val\"\n",
    "for folders in glob.glob(\"modeling\\\\train\\\\*_*\"):\n",
    "    print(folders, \"reading images...\")\n",
    "\n",
    "    for filename in os.listdir(folders):\n",
    "        try:\n",
    "            if \"v5_\" in str(filename) and \"_flipped\" in str(filename):\n",
    "                old_path = os.path.join(folders, filename)\n",
    "                new_folders = '\\\\'.join(folders.split(\"\\\\\")[:-2]) + \"\\\\val\\\\flipped\\\\0_background\\\\\"\n",
    "                new_path = os.path.join(new_folders, filename)\n",
    "                shutil.move(old_path, new_path)\n",
    "            elif \"v8_\" in str(filename) and \"_flipped\" in str(filename):\n",
    "                old_path = os.path.join(folders, filename)\n",
    "                new_folders = '\\\\'.join(folders.split(\"\\\\\")[:-2]) + \"\\\\val\\\\flipped\\\\1_wasabi\\\\\"\n",
    "                new_path = os.path.join(new_folders, filename)\n",
    "                shutil.move(old_path, new_path)\n",
    "            elif \"v14_\" in str(filename) and \"_flipped\" in str(filename):\n",
    "                old_path = os.path.join(folders, filename)\n",
    "                new_folders = '\\\\'.join(folders.split(\"\\\\\")[:-2]) + \"\\\\val\\\\flipped\\\\2_alcohol\\\\\"\n",
    "                new_path = os.path.join(new_folders, filename)\n",
    "                shutil.move(old_path, new_path)\n",
    "        except:\n",
    "            print(os.path.join(folders, filename), \"cannot read image\")\n",
    "            pass"
   ]
  },
  {
   "cell_type": "code",
   "execution_count": null,
   "id": "4ba50b75",
   "metadata": {},
   "outputs": [],
   "source": [
    "# Moving all v5, v8, v14 original images to the folder \"original\"\n",
    "for folders in glob.glob(\"modeling\\\\train\\\\*_*\"):\n",
    "    print(folders, \"reading images...\")\n",
    "\n",
    "    for filename in os.listdir(folders):\n",
    "        try:\n",
    "            if \"v5_\" in str(filename):\n",
    "                old_path = os.path.join(folders, filename)\n",
    "                new_folders = '\\\\'.join(folders.split(\"\\\\\")[:-2]) + \"\\\\val\\\\original\\\\0_background\\\\\"\n",
    "                new_path = os.path.join(new_folders, filename)\n",
    "                shutil.move(old_path, new_path)\n",
    "            elif \"v8_\" in str(filename):\n",
    "                old_path = os.path.join(folders, filename)\n",
    "                new_folders = '\\\\'.join(folders.split(\"\\\\\")[:-2]) + \"\\\\val\\\\original\\\\1_wasabi\\\\\"\n",
    "                new_path = os.path.join(new_folders, filename)\n",
    "                shutil.move(old_path, new_path)\n",
    "            elif \"v14_\" in str(filename):\n",
    "                old_path = os.path.join(folders, filename)\n",
    "                new_folders = '\\\\'.join(folders.split(\"\\\\\")[:-2]) + \"\\\\val\\\\original\\\\2_alcohol\\\\\"\n",
    "                new_path = os.path.join(new_folders, filename)\n",
    "                shutil.move(old_path, new_path)\n",
    "        except:\n",
    "            print(os.path.join(folders, filename), \"cannot read image\")\n",
    "            pass"
   ]
  },
  {
   "cell_type": "code",
   "execution_count": null,
   "id": "edc48fbe",
   "metadata": {},
   "outputs": [],
   "source": []
  }
 ],
 "metadata": {
  "kernelspec": {
   "display_name": "Python 3 (ipykernel)",
   "language": "python",
   "name": "python3"
  },
  "language_info": {
   "codemirror_mode": {
    "name": "ipython",
    "version": 3
   },
   "file_extension": ".py",
   "mimetype": "text/x-python",
   "name": "python",
   "nbconvert_exporter": "python",
   "pygments_lexer": "ipython3",
   "version": "3.9.7"
  }
 },
 "nbformat": 4,
 "nbformat_minor": 5
}
